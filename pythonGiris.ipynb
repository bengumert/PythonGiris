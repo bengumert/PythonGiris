{
 "cells": [
  {
   "cell_type": "markdown",
   "id": "77cfa8e5",
   "metadata": {},
   "source": [
    "TIRNAK İÇİNDE TIRNAK KULLANMAK:\n",
    "Metin içinde kullanılan tırnağın kendisini yazmak için önüne ters eğik çizgi (\\) konur.\n",
    "\n",
    "Alternatif olarak, dıştaki tırnak farklı tipte olabilir."
   ]
  },
  {
   "cell_type": "code",
   "execution_count": 3,
   "id": "026b9c59",
   "metadata": {},
   "outputs": [
    {
     "name": "stdout",
     "output_type": "stream",
     "text": [
      "doesn't\n",
      "doesn't\n",
      "\"Yes,\" they said.\n",
      "\"Yes,\" they said.\n"
     ]
    }
   ],
   "source": [
    "s = 'doesn\\'t'   # \\' ile kaçış yapıldı\n",
    "s1= \"doesn't\"    # çift tırnak kullanarak kaçış gerektirmeden yazıldı\n",
    "s2 = '\"Yes,\" they said.'    # tek tırnak içinde çift tırnak serbest\n",
    "s3 = \"\\\"Yes,\\\" they said.\"  # çift tırnak içinde kaçışla yazıldı\n",
    "print(s)\n",
    "print(s1)\n",
    "print(s2)\n",
    "print(s3)\n",
    "\n"
   ]
  },
  {
   "cell_type": "markdown",
   "id": "c7927078",
   "metadata": {},
   "source": [
    " Print() ve String’in Görünümü:\n",
    " Yorumlayıcıda doğrudan string yazarsanız, özel karakterler (örn. \\n) kaçış haliyle görünür.\n",
    " \n",
    "print() fonksiyonu özel karakterleri işler ve daha okunabilir çıktı verir.\n"
   ]
  },
  {
   "cell_type": "code",
   "execution_count": 4,
   "id": "856d0054",
   "metadata": {},
   "outputs": [
    {
     "name": "stdout",
     "output_type": "stream",
     "text": [
      "first line \n",
      "second line\n"
     ]
    }
   ],
   "source": [
    "s = \"first line \\nsecond line\"\n",
    "print(s)"
   ]
  },
  {
   "cell_type": "markdown",
   "id": "b0ec3eb1",
   "metadata": {},
   "source": [
    "Raw String (Ham Metinler) :\n",
    "\\ ile başlayan karakterlerin özel anlam taşımamasını istiyorsanız, string önüne r koyarak raw string yapabilirsiniz"
   ]
  },
  {
   "cell_type": "code",
   "execution_count": 6,
   "id": "f096a5be",
   "metadata": {},
   "outputs": [
    {
     "name": "stdout",
     "output_type": "stream",
     "text": [
      "C:\\some\\name\n"
     ]
    }
   ],
   "source": [
    "# print(\"C:\\some\\name\")\n",
    "# doğru kullanım \n",
    "print(r\"C:\\some\\name\")"
   ]
  },
  {
   "cell_type": "markdown",
   "id": "9634b21a",
   "metadata": {},
   "source": [
    "ÇOK SATIRLI STRİNLER: ÜÇ TIRNAK \n",
    "Çok satırlı metin yazmak için üçlü tırnak kullanılır.\n",
    "\n",
    "Satır sonları otomatik olarak string içine alınır.\n",
    "\n",
    "Satır sonunda \\ koyarsanız, satır sonu dahil edilmez."
   ]
  },
  {
   "cell_type": "code",
   "execution_count": 7,
   "id": "cb361941",
   "metadata": {},
   "outputs": [
    {
     "name": "stdout",
     "output_type": "stream",
     "text": [
      "      Usage: thingy [optıons]\n",
      "      -h                            Display this usage message\n",
      "      -H hoostname)                 Hostname to connect to \n",
      "\n"
     ]
    }
   ],
   "source": [
    "print(\"\"\"\\\n",
    "      Usage: thingy [optıons]\n",
    "      -h                            Display this usage message\n",
    "      -H hoostname)                 Hostname to connect to \n",
    "\"\"\")"
   ]
  },
  {
   "cell_type": "markdown",
   "id": "4f71c0a2",
   "metadata": {},
   "source": [
    "String Birleştirme (Concatenation) ve Çarpma (Repetition)  :\n",
    "\"+\"operatörü ile stringler yan yana eklenir (birleştirilir).\n",
    "\n",
    "\"*\" operatörü ile string tekrar ettirilebilir."
   ]
  },
  {
   "cell_type": "code",
   "execution_count": 8,
   "id": "8664e00c",
   "metadata": {},
   "outputs": [
    {
     "data": {
      "text/plain": [
       "'unununium'"
      ]
     },
     "execution_count": 8,
     "metadata": {},
     "output_type": "execute_result"
    }
   ],
   "source": [
    "3 * \"un\" + \"ium\""
   ]
  },
  {
   "cell_type": "markdown",
   "id": "72c54814",
   "metadata": {},
   "source": [
    "Otomatik Birleştirme : Birden fazla string literal (tırnak içinde yazılan metin) yan yana yazılırsa, otomatik birleşir.\n",
    "Bu özellik uzun stringleri parçalayıp okunabilir kılmak için faydalıdır."
   ]
  },
  {
   "cell_type": "code",
   "execution_count": 11,
   "id": "3db475d2",
   "metadata": {},
   "outputs": [
    {
     "name": "stdout",
     "output_type": "stream",
     "text": [
      "python\n",
      "python\n"
     ]
    }
   ],
   "source": [
    "s = \"py\"\"thon\"\n",
    "print(s)\n",
    "s1 = 'py''thon'\n",
    "print(s1)"
   ]
  },
  {
   "cell_type": "code",
   "execution_count": 12,
   "id": "7fc5fb1f",
   "metadata": {},
   "outputs": [
    {
     "data": {
      "text/plain": [
       "'put several strings within parenthesesto have them joined together.'"
      ]
     },
     "execution_count": 12,
     "metadata": {},
     "output_type": "execute_result"
    }
   ],
   "source": [
    "text = (\"put several strings within parentheses\"\n",
    "        \"to have them joined together.\")\n",
    "text"
   ]
  },
  {
   "cell_type": "markdown",
   "id": "b47a83f3",
   "metadata": {},
   "source": [
    "❌ Otomatik Birleştirme Sadece Literaller İçin\n",
    "Değişken veya ifade ile otomatik birleşme olmaz.\n",
    "Değişken ve string birleştirmek için + kullanılır:"
   ]
  },
  {
   "cell_type": "code",
   "execution_count": 14,
   "id": "8c34dce6",
   "metadata": {},
   "outputs": [],
   "source": [
    "# Hata: syntaxError\n",
    "# prefix = \"py\"\n",
    "# prefix \"thon\""
   ]
  },
  {
   "cell_type": "code",
   "execution_count": 16,
   "id": "6aed9e66",
   "metadata": {},
   "outputs": [
    {
     "data": {
      "text/plain": [
       "'python'"
      ]
     },
     "execution_count": 16,
     "metadata": {},
     "output_type": "execute_result"
    }
   ],
   "source": [
    "prefix = \"py\"\n",
    "prefix + \"thon\""
   ]
  },
  {
   "cell_type": "markdown",
   "id": "225c4368",
   "metadata": {},
   "source": [
    "String İçerisinde İndeksleme (Indexing)\n",
    "Stringler sıralı diziler olduğu için karakterlere indeksle erişebilirsiniz.\n",
    "\n",
    "İndeksler 0’dan başlar.\n",
    "Negatif indeksler sondan başlar:"
   ]
  },
  {
   "cell_type": "code",
   "execution_count": 19,
   "id": "88043f15",
   "metadata": {},
   "outputs": [
    {
     "name": "stdout",
     "output_type": "stream",
     "text": [
      "p\n",
      "y\n",
      "n\n",
      "o\n",
      "h\n"
     ]
    }
   ],
   "source": [
    "word = \"python\"\n",
    "print(word[0])\n",
    "print(word[1])\n",
    "print(word[-1])\n",
    "print(word[-2])\n",
    "print(word[-3])"
   ]
  },
  {
   "cell_type": "markdown",
   "id": "fe211ba3",
   "metadata": {},
   "source": [
    "🔪 Dilimleme (Slicing)\n",
    "word[start:stop] ifadesi start indeksi dahil, stop indeksi hariç karakterleri seçer.\n",
    "İndeks aralıkları dışına çıkmak dilimlerde hata vermez, sadece mevcut kısmı döner:\n",
    "Ancak tek karakter indekslemede sınırı aşarsanız IndexError hatası alırsınız:"
   ]
  },
  {
   "cell_type": "code",
   "execution_count": 25,
   "id": "8c21c4e1",
   "metadata": {},
   "outputs": [
    {
     "name": "stdout",
     "output_type": "stream",
     "text": [
      "py\n",
      "tho\n",
      "py\n",
      "on\n",
      "on\n",
      "on\n",
      "\n"
     ]
    }
   ],
   "source": [
    "word = \"python\"\n",
    "print(word[0:2])\n",
    "print(word[2:5])\n",
    "print(word[:2])\n",
    "print(word[4:])\n",
    "print(word[-2:])\n",
    "print(word[4:42])\n",
    "print(word[42:])\n",
    "# HATA ---> print(word[42])\n"
   ]
  },
  {
   "cell_type": "markdown",
   "id": "96a37402",
   "metadata": {},
   "source": [
    "Stringler Değiştirilemez (Immutable)\n",
    "Python stringleri değiştirilemez, yani karakterlerine atama yapılamaz."
   ]
  },
  {
   "cell_type": "code",
   "execution_count": null,
   "id": "42e0e2be",
   "metadata": {},
   "outputs": [],
   "source": [
    "# word = \"python\"\n",
    "# word[0] = \"j\"\n",
    "# HATA"
   ]
  },
  {
   "cell_type": "markdown",
   "id": "fa7b82d0",
   "metadata": {},
   "source": [
    "Uzunluk (Length)\n",
    "len() fonksiyonu stringin uzunluğunu verir (karakter sayısı).\n"
   ]
  },
  {
   "cell_type": "code",
   "execution_count": 28,
   "id": "f55a0dab",
   "metadata": {},
   "outputs": [
    {
     "data": {
      "text/plain": [
       "34"
      ]
     },
     "execution_count": 28,
     "metadata": {},
     "output_type": "execute_result"
    }
   ],
   "source": [
    "s = \"supercalifragilisticexpialidocious\"\n",
    "len(s)"
   ]
  },
  {
   "cell_type": "markdown",
   "id": "6bb98fe7",
   "metadata": {},
   "source": [
    "Python’da Listeler Nedir?\n",
    "Liste (List), birden fazla veriyi bir arada tutabilen, sıralı (ordered) ve değiştirilebilir (mutable) veri yapısıdır.\n",
    "\n",
    "Köşeli parantez [] içinde, virgülle ayrılmış öğeler (items) olarak yazılır.\n",
    "\n",
    "İçerikleri farklı türlerde olabilir, ama genelde benzer türde veriler bir arada tutulur.\n",
    "\n",
    "Tıpkı stringlerde olduğu gibi, listelerde de indeksleme ve dilimleme yapılabilir.\n",
    "\n",
    "\"+\" operatörü ile listeler yan yana eklenebilir (birleştirilebilir).\n"
   ]
  },
  {
   "cell_type": "code",
   "execution_count": 34,
   "id": "f4c480f2",
   "metadata": {},
   "outputs": [
    {
     "name": "stdout",
     "output_type": "stream",
     "text": [
      "1\n",
      "2\n",
      "[1, 2, 3, 4, 5]\n",
      "2\n",
      "4\n",
      "[2, 3]\n",
      "[1, 2, 3, 4, 5, 15, 26, 39, 45, 98, 75]\n"
     ]
    }
   ],
   "source": [
    "liste = [1,2,3,4,5]\n",
    "print(liste[0])\n",
    "print(liste[1])\n",
    "print(liste)\n",
    "print(liste[-4])\n",
    "print(liste[-2])\n",
    "print(liste[1:3])\n",
    "yeniListe = liste + [15,26,39,45,98,75]\n",
    "print(yeniListe)"
   ]
  },
  {
   "cell_type": "markdown",
   "id": "103f525b",
   "metadata": {},
   "source": [
    "🔄 Listeler Değiştirilebilir (Mutable)\n",
    "Stringlerin aksine, listelerin içeriği değiştirilebilir.\n",
    "Bir öğe güncellenebilir"
   ]
  },
  {
   "cell_type": "code",
   "execution_count": 35,
   "id": "3fa9fb16",
   "metadata": {},
   "outputs": [
    {
     "name": "stdout",
     "output_type": "stream",
     "text": [
      "[1, 8, 27, 64, 125]\n"
     ]
    }
   ],
   "source": [
    "cubes = [1,8,27,65,125]\n",
    "cubes[3] = 64\n",
    "print(cubes)"
   ]
  },
  {
   "cell_type": "markdown",
   "id": "6fcb7f62",
   "metadata": {},
   "source": [
    " Listeye Öğeler Eklemek"
   ]
  },
  {
   "cell_type": "code",
   "execution_count": 36,
   "id": "204cd324",
   "metadata": {},
   "outputs": [
    {
     "name": "stdout",
     "output_type": "stream",
     "text": [
      "[5, 46, 76, 79, 54, 45, 343]\n"
     ]
    }
   ],
   "source": [
    "liste = [5,46,76,79,54]\n",
    "liste.append(45)\n",
    "liste.append(7**3)\n",
    "print(liste)"
   ]
  },
  {
   "cell_type": "markdown",
   "id": "01c5ca6d",
   "metadata": {},
   "source": [
    "Değişken Atama ve Referanslar\n",
    "\n",
    "Python’da basit atama, veri kopyalamaz.\n",
    "\n",
    "Bir listeyi başka bir değişkene atarsanız, her iki değişken de aynı listeyi işaret eder."
   ]
  },
  {
   "cell_type": "code",
   "execution_count": null,
   "id": "bbaf683f",
   "metadata": {},
   "outputs": [],
   "source": [
    "rgb = [\"red\",\"blue\",\"green\"]\n",
    "rgba = rgb\n",
    "print(id(rgb) == id(rgba))\n",
    "rgba.append(\"Alpha\")\n",
    "print(rgb)\n",
    "# id() fonksiyonu, nesnenin bellekteki benzersiz kimliğini döner."
   ]
  },
  {
   "cell_type": "markdown",
   "id": "9adf624b",
   "metadata": {},
   "source": [
    "Dilimleme (Slicing) ile Liste Kopyalama (Shallow Copy)"
   ]
  },
  {
   "cell_type": "code",
   "execution_count": 37,
   "id": "e53d97e0",
   "metadata": {},
   "outputs": [
    {
     "name": "stdout",
     "output_type": "stream",
     "text": [
      "['red', 'blue', 'green', 'Alpha']\n",
      "['red', 'blue', 'green', 'alph']\n"
     ]
    }
   ],
   "source": [
    "rgba = [\"red\",\"blue\",\"green\",\"alph\"]\n",
    "correct_rgba = rgba[:]    #listeyi dilimleyerek kopyala\n",
    "correct_rgba[-1] = \"Alpha\"\n",
    "print(correct_rgba)\n",
    "print(rgba)\n",
    "\n",
    "\n"
   ]
  },
  {
   "cell_type": "markdown",
   "id": "d4e2ab5d",
   "metadata": {},
   "source": [
    "Dilimlere Atama (Slice Assignment)\n",
    "\n",
    "Liste dilimlerine atama yaparak, parçaları değiştirebilir, silebilir veya yeni öğeler ekleyebilirsiniz."
   ]
  },
  {
   "cell_type": "code",
   "execution_count": null,
   "id": "e9ee4361",
   "metadata": {},
   "outputs": [
    {
     "name": "stdout",
     "output_type": "stream",
     "text": [
      "['a', 'b', 'C', 'D', 'E', 'f', 'g']\n"
     ]
    }
   ],
   "source": [
    "letter = ['a','b','c','d','e','f','g']\n",
    "letter[2:5] = ['C','D','E']   # dilim değiştirme\n",
    "print(letter)"
   ]
  },
  {
   "cell_type": "code",
   "execution_count": null,
   "id": "0c0749b5",
   "metadata": {},
   "outputs": [
    {
     "name": "stdout",
     "output_type": "stream",
     "text": [
      "['a', 'b', 'f', 'g']\n"
     ]
    }
   ],
   "source": [
    "letter = ['a','b','c','d','e','f','g']\n",
    "letter[2:5] = []   # dilimi boş liste ile değiştir - sil\n",
    "print(letter)"
   ]
  },
  {
   "cell_type": "code",
   "execution_count": null,
   "id": "3bdbb85a",
   "metadata": {},
   "outputs": [
    {
     "name": "stdout",
     "output_type": "stream",
     "text": [
      "[]\n"
     ]
    }
   ],
   "source": [
    "letter = ['a','b','c','d','e','f','g']\n",
    "letter[:] =[]  # tüm listeyi temizle\n",
    "print(letter)"
   ]
  },
  {
   "cell_type": "markdown",
   "id": "876cd95f",
   "metadata": {},
   "source": [
    "Listenin Uzunluğu (Length)\n",
    "len() fonksiyonu liste uzunluğunu verir."
   ]
  },
  {
   "cell_type": "code",
   "execution_count": 41,
   "id": "b6b95733",
   "metadata": {},
   "outputs": [
    {
     "name": "stdout",
     "output_type": "stream",
     "text": [
      "4\n"
     ]
    }
   ],
   "source": [
    "letters = ['a','b','c','d']\n",
    "print(len(letters))"
   ]
  },
  {
   "cell_type": "markdown",
   "id": "1ecee4cb",
   "metadata": {},
   "source": [
    " İç İçe Listeler (Nested Lists) :\n",
    " Listeler içinde başka listeler de olabilir (çok boyutlu liste)"
   ]
  },
  {
   "cell_type": "code",
   "execution_count": 42,
   "id": "ee2c2aab",
   "metadata": {},
   "outputs": [
    {
     "name": "stdout",
     "output_type": "stream",
     "text": [
      "[['a', 'b', 'c'], [1, 2, 3]]\n",
      "['a', 'b', 'c']\n",
      "b\n"
     ]
    }
   ],
   "source": [
    "a = ['a','b','c']\n",
    "n = [1,2,3]\n",
    "x = [a,n]\n",
    "print(x)\n",
    "print(x[0])\n",
    "print(x[0][1])\n"
   ]
  },
  {
   "cell_type": "markdown",
   "id": "ea4d40c0",
   "metadata": {},
   "source": [
    "Programlamaya İlk Adımlar: Fibonacci Serisi Örneği"
   ]
  },
  {
   "cell_type": "code",
   "execution_count": 44,
   "id": "954504ac",
   "metadata": {},
   "outputs": [
    {
     "name": "stdout",
     "output_type": "stream",
     "text": [
      "0\n",
      "1\n",
      "1\n",
      "2\n",
      "3\n",
      "5\n",
      "8\n"
     ]
    }
   ],
   "source": [
    "a,b = 0,1\n",
    "while a < 10:\n",
    "    print(a)\n",
    "    a,b = b, a+b    "
   ]
  },
  {
   "cell_type": "code",
   "execution_count": 45,
   "id": "59a6e3f3",
   "metadata": {},
   "outputs": [
    {
     "name": "stdout",
     "output_type": "stream",
     "text": [
      "0,1,1,2,3,5,8,13,21,34,55,89,144,233,377,610,987,"
     ]
    }
   ],
   "source": [
    "a,b = 0,1\n",
    "while a < 1000:\n",
    "    print(a, end=',')\n",
    "    a,b = b, a+b"
   ]
  },
  {
   "cell_type": "markdown",
   "id": "3a7623ed",
   "metadata": {},
   "source": [
    "end=''  hiç satır sonu koymaz yan yana yazar\n",
    "end=' '   boşluk koyar   \n",
    "end='\\n\\n'  iki satır boşluk koyat"
   ]
  },
  {
   "cell_type": "markdown",
   "id": "3243ce5b",
   "metadata": {},
   "source": [
    "if İfadeleri (If Statements)\n",
    "\n",
    "Python'da if ifadesi, belli bir koşula göre programın farklı yollar izlemesini sağlar. Yani, koşul doğruysa bir kod bloğu çalışır, değilse başka kodlar çalışabilir."
   ]
  },
  {
   "cell_type": "markdown",
   "id": "8a56575f",
   "metadata": {},
   "source": [
    "if koşul1:\n",
    "    # koşul1 doğruysa çalışacak kod bloğu\n",
    "elif koşul2:\n",
    "    # koşul1 yanlış, koşul2 doğruysa çalışacak kod bloğu\n",
    "elif koşul3:\n",
    "    # başka koşullar\n",
    "else:\n",
    "    # yukarıdaki tüm koşullar yanlışsa çalışacak kod bloğu\n"
   ]
  },
  {
   "cell_type": "code",
   "execution_count": 51,
   "id": "c78986fa",
   "metadata": {},
   "outputs": [
    {
     "name": "stdout",
     "output_type": "stream",
     "text": [
      "Sayı birdir.\n"
     ]
    }
   ],
   "source": [
    "sayi = int(input(\"Bir sayı girin: \"))\n",
    "\n",
    "if sayi < 0:\n",
    "    print(\"Sayı negatiftir.\")\n",
    "elif sayi == 0:\n",
    "    print(\"Sayı sıfırdır.\")\n",
    "elif sayi == 1:\n",
    "    print(\"Sayı birdir.\")\n",
    "else:\n",
    "    print(\"Sayı 1'den büyüktür.\")\n",
    "\n"
   ]
  },
  {
   "cell_type": "markdown",
   "id": "a3c93a1b",
   "metadata": {},
   "source": [
    "4.2. for Statements (for Döngüleri)\n",
    "Python'da for döngüsü, diğer bazı programlama dillerindeki gibi sadece sayılar arasında dönmez. Daha genel bir yapıya sahiptir.\n",
    "\n",
    "for döngüsü, üzerinde dönülecek (iterable) herhangi bir sıralı veri yapısının (liste, dize, sözlük, demet vs.) elemanları üzerinde sırayla gezinir"
   ]
  },
  {
   "cell_type": "code",
   "execution_count": 53,
   "id": "d4676537",
   "metadata": {},
   "outputs": [
    {
     "name": "stdout",
     "output_type": "stream",
     "text": [
      "5\n",
      "4\n",
      "7\n",
      "deneme\n",
      "dizi\n"
     ]
    }
   ],
   "source": [
    "dizi = [5,4,7,\"deneme\",\"dizi\"]\n",
    "for eleman in dizi:\n",
    "    print(eleman)"
   ]
  },
  {
   "cell_type": "code",
   "execution_count": 54,
   "id": "6beb04d3",
   "metadata": {},
   "outputs": [
    {
     "name": "stdout",
     "output_type": "stream",
     "text": [
      "cat 3\n",
      "window 6\n",
      "difemestrade 12\n"
     ]
    }
   ],
   "source": [
    "words = ['cat','window','difemestrade']\n",
    "for word in words:\n",
    "    print(word, len(word))"
   ]
  },
  {
   "cell_type": "markdown",
   "id": "26c1e593",
   "metadata": {},
   "source": [
    "Döngüde Koleksiyon Değiştirme Problemi :\n",
    "Python’da döngüdeyken üzerinde dolaştığınız liste veya sözlüğü değiştirmek genellikle problem yaratır. Örneğin, döngüdeyken eleman silmek veya eklemek beklenmedik sonuçlara neden olabilir.\n",
    "Bu durumu yönetmenin iki yaygın yöntemi:\n",
    "1. Kopya Üzerinde Dolaşmak\n",
    "2. Yeni Bir Koleksiyon Oluşturmak\n"
   ]
  },
  {
   "cell_type": "code",
   "execution_count": 56,
   "id": "ac629408",
   "metadata": {},
   "outputs": [
    {
     "data": {
      "text/plain": [
       "{'Hans': 'active', '景太郎': 'active'}"
      ]
     },
     "execution_count": 56,
     "metadata": {},
     "output_type": "execute_result"
    }
   ],
   "source": [
    "# 1)\n",
    "users = {'Hans': 'active', 'Éléonore': 'inactive', '景太郎': 'active'}\n",
    "for user,status in users.copy().items():  #users sözlüğünün kopyası üzerinde dön\n",
    "    if status == 'inactive' :\n",
    "        del users[user]    #orjinal sözlükten sil\n",
    "\n",
    "users"
   ]
  },
  {
   "cell_type": "code",
   "execution_count": 57,
   "id": "a2efd679",
   "metadata": {},
   "outputs": [
    {
     "data": {
      "text/plain": [
       "{'Hans': 'active', '景太郎': 'active'}"
      ]
     },
     "execution_count": 57,
     "metadata": {},
     "output_type": "execute_result"
    }
   ],
   "source": [
    "# 2)\n",
    "users = {'Hans': 'active', 'Éléonore': 'inactive', '景太郎': 'active'}\n",
    "active_users = {}\n",
    "for user, status in users.items():\n",
    "    if status == 'active':\n",
    "        active_users[user] = status\n",
    "\n",
    "active_users"
   ]
  },
  {
   "cell_type": "markdown",
   "id": "a0abf548",
   "metadata": {},
   "source": [
    "Önemli Terimler ve Kavramlar\n",
    "\n",
    "Iterable (İterabl): Üzerinde tek tek dolaşılabilen nesne. Örneğin listeler, stringler, sözlükler, setler vs.\n",
    "\n",
    "for döngüsü: İterabl üzerindeki elemanları sırasıyla alır.\n",
    "\n",
    "copy() metodu: Bir koleksiyonun yüzeysel kopyasını alır.\n",
    "\n",
    "items() metodu: Sözlükteki (anahtar, değer) çiftlerini döndürür.\n",
    "\n",
    "Yüzeysel kopya (shallow copy): Üst seviye objenin yeni kopyası, içindeki objeler aynı referansları tutar.\n",
    "\n",
    "del ifadesi: Python’da bir objeyi silmek için kullanılır."
   ]
  },
  {
   "cell_type": "markdown",
   "id": "09f430bd",
   "metadata": {},
   "source": [
    "range() Fonksiyonu (Aralık Fonksiyonu) :\n",
    "\n",
    "Python'da eğer sayılar üzerinde bir döngü yapmak istiyorsanız, range() fonksiyonu çok işinize yarar. range() aritmetik ilerlemeler (aritmetik diziler) üretir."
   ]
  },
  {
   "cell_type": "code",
   "execution_count": 58,
   "id": "b0ede557",
   "metadata": {},
   "outputs": [
    {
     "name": "stdout",
     "output_type": "stream",
     "text": [
      "0\n",
      "1\n",
      "2\n",
      "3\n",
      "4\n"
     ]
    }
   ],
   "source": [
    "for number in range(5):\n",
    "    print(number)"
   ]
  },
  {
   "cell_type": "markdown",
   "id": "0e646a63",
   "metadata": {},
   "source": [
    "Başlangıç ve artış (step) değeri ayarlamak:\n",
    "range() fonksiyonunun üç parametreli hali:\n",
    "\n",
    "range(start, stop, step)\n",
    "\n",
    "start: Dizinin başlayacağı sayı (dahil)\n",
    "\n",
    "stop: Dizinin biteceği sayı (dahil değil)\n",
    "\n",
    "step: Artış miktarı (pozitif ya da negatif olabilir)"
   ]
  },
  {
   "cell_type": "code",
   "execution_count": 59,
   "id": "bc95e5d4",
   "metadata": {},
   "outputs": [
    {
     "name": "stdout",
     "output_type": "stream",
     "text": [
      "15\n",
      "14\n",
      "13\n",
      "12\n",
      "11\n",
      "10\n",
      "9\n",
      "8\n",
      "7\n",
      "6\n",
      "5\n",
      "4\n",
      "3\n",
      "2\n",
      "1\n"
     ]
    }
   ],
   "source": [
    "for number in range(15,0,-1):\n",
    "    print(number)"
   ]
  },
  {
   "cell_type": "code",
   "execution_count": 62,
   "id": "6306c4c3",
   "metadata": {},
   "outputs": [
    {
     "name": "stdout",
     "output_type": "stream",
     "text": [
      "[5, 6, 7, 8, 9]\n",
      "[3, 5, 7, 9]\n",
      "[11, 22, 33, 44, 55, 66, 77, 88, 99, 110, 121, 132, 143, 154, 165, 176, 187, 198, 209, 220, 231, 242, 253, 264, 275, 286, 297, 308, 319, 330, 341, 352, 363, 374, 385, 396, 407, 418, 429, 440, 451, 462, 473, 484, 495, 506, 517, 528, 539, 550, 561, 572, 583, 594, 605, 616, 627, 638, 649, 660, 671, 682, 693, 704, 715, 726, 737, 748, 759, 770, 781, 792, 803, 814, 825, 836, 847, 858, 869, 880, 891, 902, 913, 924, 935, 946, 957, 968, 979, 990]\n"
     ]
    }
   ],
   "source": [
    "print(list(range(5,10)))\n",
    "print(list(range(3,10,2)))\n",
    "print(list(range(11,999,11)))\n"
   ]
  },
  {
   "cell_type": "markdown",
   "id": "6e9947f7",
   "metadata": {},
   "source": [
    "range() ve dizilerin indeksleri\n",
    "Diziler (listeler) üzerinde indeksleri ile dolaşmak için range() ve len() fonksiyonlarını birlikte kullanırız"
   ]
  },
  {
   "cell_type": "code",
   "execution_count": 63,
   "id": "b43d6e0b",
   "metadata": {},
   "outputs": [
    {
     "name": "stdout",
     "output_type": "stream",
     "text": [
      "0 Mary\n",
      "1 had\n",
      "2 a\n",
      "3 little\n",
      "4 lamb\n"
     ]
    }
   ],
   "source": [
    "a = ['Mary','had','a','little','lamb']\n",
    "for i in range(len(a)):\n",
    "    print(i,a[i])"
   ]
  },
  {
   "cell_type": "markdown",
   "id": "96061ba0",
   "metadata": {},
   "source": [
    "range() bir liste midir?\n",
    "range() fonksiyonu liste (list) üretmez.\n",
    "\n",
    "Aslında bir iterable (yineleyici) nesnedir.\n",
    "\n",
    "Bu nesne, döngü sırasında ihtiyaç duyulan sayıları sırasıyla üretir, ama tüm sayıları hafızada tutmaz.\n",
    "\n",
    "Bu sayede belleği tasarruflu kullanır."
   ]
  },
  {
   "cell_type": "code",
   "execution_count": null,
   "id": "dbc04745",
   "metadata": {},
   "outputs": [
    {
     "name": "stdout",
     "output_type": "stream",
     "text": [
      "range(0, 10)\n"
     ]
    }
   ],
   "source": [
    "print(range(10))\n",
    "# Görüldüğü gibi, liste gibi tüm elemanları göstermez.\n",
    "\n",
    "# Ama list(range(10)) diyerek bir listeye çevirebiliriz."
   ]
  },
  {
   "cell_type": "markdown",
   "id": "fb5b426f",
   "metadata": {},
   "source": [
    "Iterable (Yineleyici) Nedir?\n",
    "Iterable, üzerinde sırayla dolaşılan nesnelerdir.\n",
    "\n",
    "for döngüsü gibi yapılar, iterable olan nesnelerle çalışır.\n",
    "\n",
    "range() sonucu dönen nesne de bir iterable’dır."
   ]
  },
  {
   "cell_type": "code",
   "execution_count": 65,
   "id": "865f30c7",
   "metadata": {},
   "outputs": [
    {
     "data": {
      "text/plain": [
       "6"
      ]
     },
     "execution_count": 65,
     "metadata": {},
     "output_type": "execute_result"
    }
   ],
   "source": [
    "sum(range(4))"
   ]
  },
  {
   "cell_type": "markdown",
   "id": "2ad28af9",
   "metadata": {},
   "source": [
    "for ve while döngülerinde break ve continue\n",
    "Python’da döngüler içinde kontrol akışını değiştirmek için break ve continue gibi özel ifadeler (statements) kullanılır."
   ]
  },
  {
   "cell_type": "markdown",
   "id": "687ecdda",
   "metadata": {},
   "source": [
    "break ifadesi (statement)\n",
    "Tanım:\n",
    "break, çalıştığı anda bulunduğu en içteki (innermost) for veya while döngüsünden çıkışı sağlar. Döngüyü tamamen sonlandırır."
   ]
  },
  {
   "cell_type": "code",
   "execution_count": 66,
   "id": "cc9156b2",
   "metadata": {},
   "outputs": [
    {
     "name": "stdout",
     "output_type": "stream",
     "text": [
      "4 equals 2 * 2\n",
      "6 equals 2 * 3\n",
      "8 equals 2 * 4\n",
      "9 equals 3 * 3\n"
     ]
    }
   ],
   "source": [
    "for n in range(2,10):\n",
    "    for x in range(2,n):\n",
    "        if n % x == 0:\n",
    "            print(f\"{n} equals {x} * {n//x}\")\n",
    "            break"
   ]
  },
  {
   "cell_type": "markdown",
   "id": "9691783c",
   "metadata": {},
   "source": [
    "continue ifadesi (statement)\n",
    "Tanım:\n",
    "continue, çalıştığı anda o anki döngünün kalan kısmını atlayarak bir sonraki iterasyona geçer. Döngü sona ermez."
   ]
  },
  {
   "cell_type": "code",
   "execution_count": 67,
   "id": "427782f7",
   "metadata": {},
   "outputs": [
    {
     "name": "stdout",
     "output_type": "stream",
     "text": [
      "Found an even number 2\n",
      "Found an odd number 3\n",
      "Found an even number 4\n",
      "Found an odd number 5\n",
      "Found an even number 6\n",
      "Found an odd number 7\n",
      "Found an even number 8\n",
      "Found an odd number 9\n"
     ]
    }
   ],
   "source": [
    "for num in range(2, 10):\n",
    "    if num % 2 == 0:\n",
    "        print(f\"Found an even number {num}\")\n",
    "        continue\n",
    "    print(f\"Found an odd number {num}\")\n"
   ]
  },
  {
   "cell_type": "markdown",
   "id": "1048d9b0",
   "metadata": {},
   "source": [
    "break\tDöngüyü tamamen durdurur\t\n",
    "Döngüden çıkmak istediğimizde kullanılır\n",
    "continue\tBu iterasyonu atlar, sonraki iterasyona geçer\t\n",
    "Şartlı olarak bazı adımları atlamak istediğimizde kullanılır"
   ]
  },
  {
   "cell_type": "markdown",
   "id": "de777e52",
   "metadata": {},
   "source": [
    " Ekstra Bilgiler\n",
    "break ve continue, hem for hem while döngülerinde çalışır.\n",
    "\n",
    "break, döngüden çıkmak için; continue, belirli durumları atlamak için çok kullanışlıdır.\n",
    "\n",
    "İç içe döngülerde sadece bulunduğu döngüyü etkiler, dış döngüye dokunmaz"
   ]
  },
  {
   "cell_type": "code",
   "execution_count": 70,
   "id": "f3a5e82c",
   "metadata": {},
   "outputs": [
    {
     "name": "stdout",
     "output_type": "stream",
     "text": [
      "2 is a prime number\n",
      "3 is a prime number\n",
      "5 is a prime number\n",
      "7 is a prime number\n"
     ]
    }
   ],
   "source": [
    "for n in range(2,10):\n",
    "    is_prime = True\n",
    "    for x in range(2,n):\n",
    "        if n % x == 0:\n",
    "            is_prime = False\n",
    "            break\n",
    "    if is_prime:\n",
    "        print(f\"{n} is a prime number\")"
   ]
  },
  {
   "cell_type": "markdown",
   "id": "0cab4111",
   "metadata": {},
   "source": [
    "else Bloğu ile Döngüler (for/while)\n",
    "Temel Mantık:\n",
    "else bloğu sadece döngü “normal şekilde” tamamlandığında (yani break ile çıkılmadığında) çalışır.\n",
    "\n",
    "Eğer döngü sırasında break kullanılmışsa, else bloğu atlanır (çalışmaz).\n",
    "\n",
    "\n",
    "for item in iterable:\n",
    "    if <koşul>:\n",
    "        break\n",
    "else:\n",
    "    # Sadece break olmadıysa çalışır\n"
   ]
  },
  {
   "cell_type": "markdown",
   "id": "7af65991",
   "metadata": {},
   "source": [
    "pass ifadesi nedir?\n",
    "Python'da pass ifadesi, hiçbir işlem yapmayan yer tutucu (placeholder) bir komuttur. Sadece sentaks (sözdizimi) açısından bir komut yazılması gereken yerde kullanılır. Program açısından herhangi bir işlevi yoktur.\n",
    "\n",
    "pass  # bu satır çalışır ama hiçbir şey yapmaz\n"
   ]
  },
  {
   "cell_type": "markdown",
   "id": "bbca5d77",
   "metadata": {},
   "source": [
    "1. 🌀 Sonsuz döngüde beklemek\n",
    "while True:\n",
    "    pass  # Ctrl+C (klavye kesme) bekleniyor\n",
    "Bu kod sonsuza kadar çalışır.\n",
    "\n",
    "Genelde sistemin belirli bir olay (interrupt, sinyal) gelene kadar pasif beklemesi gerektiğinde kullanılır.\n",
    "\n",
    "Donanımsal uygulamalarda veya olay tabanlı sistemlerde işe yarar."
   ]
  },
  {
   "cell_type": "markdown",
   "id": "5043e979",
   "metadata": {},
   "source": [
    "2. 🧱 Boş sınıf tanımı\n",
    "class MyEmptyClass:\n",
    "    pass\n",
    "class bloğu boş bırakılamaz. Aksi takdirde IndentationError oluşur.\n",
    "\n",
    "pass, bu boşluğu geçici olarak doldurur.\n",
    "\n",
    "Yazılım geliştirme sırasında sınıfın iskeleti oluşturulurken kullanılır."
   ]
  },
  {
   "cell_type": "markdown",
   "id": "0f741611",
   "metadata": {},
   "source": [
    "🧠 Fonksiyon taslağı (stub) yazmak\n",
    "def initlog(*args):\n",
    "    pass  # Daha sonra yazılacak\n",
    "Bu fonksiyon şu an bir şey yapmıyor ama ileride geliştirilecek.\n",
    "\n",
    "*args, fonksiyona her türde ve sayıda argüman gönderilebileceğini belirtir.\n",
    "\n",
    "pass, bu fonksiyonun var olmasını sağlar, hata vermez."
   ]
  },
  {
   "cell_type": "markdown",
   "id": "05da25e5",
   "metadata": {},
   "source": [
    "Nerelerde Kullanılmaz?\n",
    "Üretim (production) kodunda sürekli pass kullanımı önerilmez. Sadece geliştirme sürecinde işe yarar.\n",
    "\n",
    "Asıl işlevsellik yerine konulacak kod unutulursa, program sessizce yanlış çalışabilir."
   ]
  },
  {
   "cell_type": "markdown",
   "id": "6fcdbc66",
   "metadata": {},
   "source": [
    "1. match Nedir?\n",
    "match, bir değişkenin (veya ifadenin) belirli bir desene (pattern) uyup uymadığına göre çalışacak kod bloğunu seçer. switch-case yapısına benzer ama çok daha gelişmiştir.\n",
    "\n",
    "match ifade:\n",
    "    case desen1:\n",
    "        # kod1\n",
    "    case desen2:\n",
    "        # kod2\n",
    "    case _:\n",
    "        # eşleşmezse çalışır"
   ]
  },
  {
   "cell_type": "code",
   "execution_count": null,
   "id": "485ae43c",
   "metadata": {},
   "outputs": [
    {
     "data": {
      "text/plain": [
       "'not found'"
      ]
     },
     "execution_count": 73,
     "metadata": {},
     "output_type": "execute_result"
    }
   ],
   "source": [
    "#2. Temel Kullanım – Sabitlerle Eşleşme\n",
    "def http_error(status):\n",
    "    match status:\n",
    "        case 400:\n",
    "            return \"bad request\"\n",
    "        case 404:\n",
    "            return \"not found\"\n",
    "        case 418:\n",
    "            return \"I'm a teapot\"\n",
    "        case _ :\n",
    "            return \"something's wrong\"\n",
    "        \n",
    "http_error(404)"
   ]
  },
  {
   "cell_type": "code",
   "execution_count": 81,
   "id": "97781c78",
   "metadata": {},
   "outputs": [
    {
     "data": {
      "text/plain": [
       "'Not allowed'"
      ]
     },
     "execution_count": 81,
     "metadata": {},
     "output_type": "execute_result"
    }
   ],
   "source": [
    "# 3. Birden Fazla Değerle Eşleşme: | Operatörü\n",
    "def http_error(status):\n",
    "    match status:\n",
    "     case 401 | 403 | 404:\n",
    "        return \"Not allowed\"\n",
    "\n",
    "http_error(401)"
   ]
  },
  {
   "cell_type": "code",
   "execution_count": 1,
   "id": "a16acd9a",
   "metadata": {},
   "outputs": [
    {
     "name": "stdout",
     "output_type": "stream",
     "text": [
      "Y ekseninde 5 noktasında\n"
     ]
    }
   ],
   "source": [
    "#  4. Desenle Değişken Eşleşmesi (Unpacking)\n",
    "point = (0, 5)\n",
    "match point:\n",
    "    case (0, y):\n",
    "        print(f\"Y ekseninde {y} noktasında\")\n",
    "    case (x, 0):\n",
    "        print(f\"X ekseninde {x} noktasında\")\n",
    "    case (x, y):\n",
    "        print(f\"({x}, {y}) noktasında\")\n",
    "\n",
    "    "
   ]
  },
  {
   "cell_type": "code",
   "execution_count": 2,
   "id": "002abe47",
   "metadata": {},
   "outputs": [
    {
     "name": "stdout",
     "output_type": "stream",
     "text": [
      "Y ekseninde 7 noktasında\n"
     ]
    }
   ],
   "source": [
    "# 5 Nesne Özellikleri İle Eşleme\n",
    "class Point:\n",
    "    def __init__(self, x, y):\n",
    "        self.x = x\n",
    "        self.y = y\n",
    "\n",
    "p = Point(0,7)\n",
    "match p:\n",
    "    case Point(x=0, y=y):\n",
    "        print(f\"Y ekseninde {y} noktasında\")"
   ]
  },
  {
   "cell_type": "code",
   "execution_count": null,
   "id": "9e21e8c5",
   "metadata": {},
   "outputs": [],
   "source": [
    "# 6. Guard(Koşullu Desen)\n",
    "# Burada, x == y şartı sağlanıyorsa blok çalışır. Bu bir desen korumasıdır (guard).\n",
    "match point:\n",
    "    case Point(x,y) if x== y :\n",
    "        print(\"X ve Y eşit\")\n"
   ]
  },
  {
   "cell_type": "code",
   "execution_count": null,
   "id": "cbec1156",
   "metadata": {},
   "outputs": [],
   "source": [
    "# 7. Liste/Tuple Deseni\n",
    "# Liste uzunluğu ve içeriği uyuşuyorsa çalışır.\n",
    "match[1,2,3]:\n",
    "    case [1, 2, 3]:\n",
    "        print(\"tam eşleşme\")\n",
    "\n",
    "# Extended unpacking de yapılabilir:\n",
    "case [x, y,*rest]:"
   ]
  },
  {
   "cell_type": "code",
   "execution_count": 6,
   "id": "1730a17d",
   "metadata": {},
   "outputs": [
    {
     "name": "stdout",
     "output_type": "stream",
     "text": [
      "Bandwidth: 100, Latency: 20\n"
     ]
    }
   ],
   "source": [
    "# 8. Sözlük Deseni\n",
    "# Sözlükteki anahtar ve değerlerle eşleşme yapar.\n",
    "data = {\"bandwidth\": 100, \"latency\": 20}\n",
    "match data:\n",
    "    case {\"bandwidth\": bw, \"latency\": lat}:\n",
    "        print(f\"Bandwidth: {bw}, Latency: {lat}\")"
   ]
  },
  {
   "cell_type": "code",
   "execution_count": 4,
   "id": "71006fc6",
   "metadata": {},
   "outputs": [
    {
     "name": "stdout",
     "output_type": "stream",
     "text": [
      "['__add__', '__class__', '__contains__', '__delattr__', '__dir__', '__doc__', '__eq__', '__format__', '__ge__', '__getattribute__', '__getitem__', '__getnewargs__', '__getstate__', '__gt__', '__hash__', '__init__', '__init_subclass__', '__iter__', '__le__', '__len__', '__lt__', '__mod__', '__mul__', '__ne__', '__new__', '__reduce__', '__reduce_ex__', '__repr__', '__rmod__', '__rmul__', '__setattr__', '__sizeof__', '__str__', '__subclasshook__', 'capitalize', 'casefold', 'center', 'count', 'encode', 'endswith', 'expandtabs', 'find', 'format', 'format_map', 'index', 'isalnum', 'isalpha', 'isascii', 'isdecimal', 'isdigit', 'isidentifier', 'islower', 'isnumeric', 'isprintable', 'isspace', 'istitle', 'isupper', 'join', 'ljust', 'lower', 'lstrip', 'maketrans', 'partition', 'removeprefix', 'removesuffix', 'replace', 'rfind', 'rindex', 'rjust', 'rpartition', 'rsplit', 'rstrip', 'split', 'splitlines', 'startswith', 'strip', 'swapcase', 'title', 'translate', 'upper', 'zfill']\n"
     ]
    }
   ],
   "source": [
    "print(dir(str))"
   ]
  },
  {
   "cell_type": "code",
   "execution_count": 6,
   "id": "42c0cb7f",
   "metadata": {},
   "outputs": [
    {
     "name": "stdout",
     "output_type": "stream",
     "text": [
      "Help on built-in function len in module builtins:\n",
      "\n",
      "len(obj, /)\n",
      "    Return the number of items in a container.\n",
      "\n"
     ]
    }
   ],
   "source": [
    "help(len)"
   ]
  },
  {
   "cell_type": "code",
   "execution_count": 8,
   "id": "7233186f",
   "metadata": {},
   "outputs": [
    {
     "data": {
      "text/plain": [
       "4.0"
      ]
     },
     "execution_count": 8,
     "metadata": {},
     "output_type": "execute_result"
    }
   ],
   "source": [
    "import math\n",
    "math.sqrt(16)"
   ]
  },
  {
   "cell_type": "markdown",
   "id": "0966b669",
   "metadata": {},
   "source": [
    "TUPLE İÇİNDEKİ LİSTELERE KARIŞMIYPR"
   ]
  },
  {
   "cell_type": "code",
   "execution_count": 10,
   "id": "99f1a1e5",
   "metadata": {},
   "outputs": [
    {
     "name": "stdout",
     "output_type": "stream",
     "text": [
      "([1, 2, 100], [4, 5, 6])\n"
     ]
    }
   ],
   "source": [
    "tuple = ([1,2,3],[4,5,6])\n",
    "tuple[0][2]=100\n",
    "print(tuple)"
   ]
  },
  {
   "cell_type": "code",
   "execution_count": 14,
   "id": "260b5157",
   "metadata": {},
   "outputs": [
    {
     "name": "stdout",
     "output_type": "stream",
     "text": [
      "([100, 100, 100], [100, 100, 100])\n"
     ]
    }
   ],
   "source": [
    "tuple = ([1,2,3],[4,5,6])\n",
    "tuple[0][0]=100\n",
    "tuple[0][1]=100\n",
    "tuple[0][2]=100\n",
    "tuple[1][0]=100\n",
    "tuple[1][1]=100\n",
    "tuple[1][2]=100\n",
    "print(tuple)"
   ]
  },
  {
   "cell_type": "code",
   "execution_count": 15,
   "id": "53296309",
   "metadata": {},
   "outputs": [
    {
     "name": "stdout",
     "output_type": "stream",
     "text": [
      "25\n"
     ]
    }
   ],
   "source": [
    "def kare_al(sayi):\n",
    "    print(sayi * sayi)\n",
    "\n",
    "kare_al(5)"
   ]
  },
  {
   "cell_type": "code",
   "execution_count": 16,
   "id": "6b9b682d",
   "metadata": {},
   "outputs": [
    {
     "data": {
      "text/plain": [
       "64"
      ]
     },
     "execution_count": 16,
     "metadata": {},
     "output_type": "execute_result"
    }
   ],
   "source": [
    "def kare_al(sayi):\n",
    "    return sayi ** 2\n",
    "\n",
    "kare_al(8)"
   ]
  },
  {
   "cell_type": "code",
   "execution_count": 19,
   "id": "fbc29ca6",
   "metadata": {},
   "outputs": [
    {
     "name": "stdout",
     "output_type": "stream",
     "text": [
      "Giriş başarılı\n"
     ]
    }
   ],
   "source": [
    "password = \"asd123\"\n",
    "nickname = \"user1\"\n",
    "\n",
    "sifre = input(\"Şifre girin: \")\n",
    "kullanıcı_adi = input(\"Kullanıcı adınızı girin: \")\n",
    "if sifre == password and kullanıcı_adi == nickname:\n",
    "    print(\"Giriş başarılı\")\n",
    "elif sifre != password or kullanıcı_adi != nickname:\n",
    "    print(\"Giriş başarısız\")\n",
    "else:\n",
    "    print(\"Geçerli veriler girin\")"
   ]
  },
  {
   "cell_type": "code",
   "execution_count": 23,
   "id": "6ee36969",
   "metadata": {},
   "outputs": [
    {
     "name": "stdout",
     "output_type": "stream",
     "text": [
      "10\n"
     ]
    }
   ],
   "source": [
    "def en_buyuk(sayi1,sayi2,sayi3):\n",
    "    if sayi1> sayi2 and sayi1 > sayi3:\n",
    "        return sayi1\n",
    "    elif sayi2 > sayi1 and sayi2 > sayi3:\n",
    "        return sayi2\n",
    "    else:\n",
    "        return sayi3\n",
    "    \n",
    "print(en_buyuk(5,3,10))\n",
    "\n"
   ]
  },
  {
   "cell_type": "code",
   "execution_count": 1,
   "id": "1e7f2fba",
   "metadata": {},
   "outputs": [
    {
     "name": "stdout",
     "output_type": "stream",
     "text": [
      "Yanlış tahmin, tekrar deneyin. Kalan hakkınız: 4\n",
      "Tebrikler! Kelimeyi 2. denemede buldunuz.\n"
     ]
    }
   ],
   "source": [
    "kelime = \"Python\"  # Tahmin edilecek kelime\n",
    "tahmin_hakki = 5   # En fazla 5 deneme hakkı\n",
    "tahmin_etme = 0    # Kullanıcının yaptığı deneme sayısı\n",
    "\n",
    "while tahmin_etme < tahmin_hakki:\n",
    "    tahmin = input(\"Kelimeyi tahmin ediniz: \")\n",
    "    tahmin_etme += 1\n",
    "\n",
    "    if tahmin == kelime:\n",
    "        print(f\"Tebrikler! Kelimeyi {tahmin_etme}. denemede buldunuz.\")\n",
    "        break  # Doğru tahmin edildi, döngüden çık\n",
    "    else:\n",
    "        kalan = tahmin_hakki - tahmin_etme\n",
    "        print(f\"Yanlış tahmin, tekrar deneyin. Kalan hakkınız: {kalan}\")\n",
    "\n",
    "# Eğer kullanıcı 5 hakkı da kullanıp bulamazsa:\n",
    "if tahmin != kelime:\n",
    "    print(f\"Maalesef bilemediniz. Doğru kelime: {kelime}\")\n"
   ]
  },
  {
   "cell_type": "code",
   "execution_count": 4,
   "id": "88313973",
   "metadata": {},
   "outputs": [
    {
     "name": "stdout",
     "output_type": "stream",
     "text": [
      "toplam: 55\n"
     ]
    }
   ],
   "source": [
    "sayilar = [1, 2, 3, 4, 5, 6, 7, 8, 9, 10]\n",
    "toplam = 0\n",
    "for sayi in sayilar:\n",
    "    toplam += sayi\n",
    "print(\"toplam: \" + str(toplam))"
   ]
  },
  {
   "cell_type": "code",
   "execution_count": 2,
   "id": "56d7b74a",
   "metadata": {},
   "outputs": [
    {
     "data": {
      "text/plain": [
       "'danama'"
      ]
     },
     "execution_count": 2,
     "metadata": {},
     "output_type": "execute_result"
    }
   ],
   "source": [
    "s = \"deneme\"\n",
    "s.replace(\"e\", \"a\")  # 'denama' döner\n"
   ]
  },
  {
   "cell_type": "code",
   "execution_count": 10,
   "id": "3eff2e17",
   "metadata": {},
   "outputs": [
    {
     "name": "stdout",
     "output_type": "stream",
     "text": [
      "merhaba, ziyaretçi\n",
      "merhaba, Ahmet\n"
     ]
    }
   ],
   "source": [
    "def selamla(isim=\"ziyaretçi\"):\n",
    "    print(f\"merhaba, {isim}\")\n",
    "\n",
    "selamla()\n",
    "selamla(\"Ahmet\")  # \"merhaba, Ahmet\" döner"
   ]
  },
  {
   "cell_type": "code",
   "execution_count": 13,
   "id": "7da12c81",
   "metadata": {},
   "outputs": [],
   "source": [
    "def ask_ok(prompt, retries=3, reminder=\"Lütfen tekrar deneyin.\"):\n",
    "    while retries > 0:\n",
    "        cevap = input(prompt)\n",
    "        if cevap in {'e', 'evet'}:\n",
    "            return True\n",
    "        if cevap in {'h', 'hayır'}:\n",
    "            return False\n",
    "        retries -= 1\n",
    "        print(reminder)\n",
    "    raise ValueError(\"Geçersiz kullanıcı cevabı\")\n"
   ]
  },
  {
   "cell_type": "code",
   "execution_count": 20,
   "id": "afe5ffc7",
   "metadata": {},
   "outputs": [
    {
     "name": "stdout",
     "output_type": "stream",
     "text": [
      "0 1 1 2 3 5 8 \n"
     ]
    }
   ],
   "source": [
    "def fib(n=10):\n",
    "    \"\"\"n sayısından küçük Fibonacci dizisi üretir\"\"\"\n",
    "    a, b = 0, 1\n",
    "    while a < n:\n",
    "        print(a, end=' ')\n",
    "        a, b = b, a + b\n",
    "    print()\n",
    "fib(10)"
   ]
  },
  {
   "cell_type": "code",
   "execution_count": 28,
   "id": "68e2108f",
   "metadata": {},
   "outputs": [
    {
     "name": "stdout",
     "output_type": "stream",
     "text": [
      "-- This parrot wouldn't VOOOOOM if you put 1000 volts through it.\n",
      "-- Lovely plumage, the African Grey\n",
      "-- It's dead !\n"
     ]
    }
   ],
   "source": [
    "def parrot(voltage, state='a stiff', action='voom', type='Norwegian Blue'):\n",
    "    print(\"-- This parrot wouldn't\", action, end=' ')\n",
    "    print(\"if you put\", voltage, \"volts through it.\")\n",
    "    print(\"-- Lovely plumage, the\", type)\n",
    "    print(\"-- It's\", state, \"!\")\n",
    "\n",
    "parrot(1000, state = \"dead\",action='VOOOOOM', type='African Grey')\n"
   ]
  },
  {
   "cell_type": "code",
   "execution_count": 31,
   "id": "df4d0c37",
   "metadata": {},
   "outputs": [
    {
     "name": "stdout",
     "output_type": "stream",
     "text": [
      "isminşiz: Ahmet\n",
      "Siparişiniz: pizza\n",
      "Siparişiniz: salata\n",
      "Siparişiniz: içecek\n",
      "boyut : büyük\n",
      "sos : mayonez\n"
     ]
    }
   ],
   "source": [
    "def siparis_ver(name, *items, **nitelikler):\n",
    "    print(f\"isminşiz: {name}\")\n",
    "\n",
    "    for item in items:\n",
    "        print(f\"Siparişiniz: {item}\")\n",
    "\n",
    "    for key, value in nitelikler.items():\n",
    "        print(f\"{key} : {value}\")\n",
    "\n",
    "siparis_ver(\"Ahmet\", \"pizza\", \"salata\", \"içecek\", boyut=\"büyük\", sos=\"mayonez\")"
   ]
  },
  {
   "cell_type": "code",
   "execution_count": 32,
   "id": "fc05800f",
   "metadata": {},
   "outputs": [
    {
     "name": "stdout",
     "output_type": "stream",
     "text": [
      "Katılımcı: Bengü\n",
      "Kayıtlı etkinlikler:\n",
      "- Yürüyüş\n",
      "- Seminer\n",
      "- Konsere Katılım\n",
      "Ek bilgiler:\n",
      "yaş: 30\n",
      "şehir: İstanbul\n"
     ]
    }
   ],
   "source": [
    "def etkinlik_kayit(name, *etkinlikler, **ek_bilgiler):\n",
    "    print(f\"Katılımcı: {name}\")\n",
    "    print(\"Kayıtlı etkinlikler:\")\n",
    "    for etkinlik in etkinlikler:\n",
    "        print(f\"- {etkinlik}\")\n",
    "\n",
    "    if ek_bilgiler:\n",
    "        print(\"Ek bilgiler:\")\n",
    "        for key, value in ek_bilgiler.items():\n",
    "            print(f\"{key}: {value}\")\n",
    "\n",
    "etkinlik_kayit(\"Bengü\", \"Yürüyüş\", \"Seminer\", \"Konsere Katılım\", yaş=30, şehir=\"İstanbul\")"
   ]
  },
  {
   "cell_type": "code",
   "execution_count": 34,
   "id": "a391f5fb",
   "metadata": {},
   "outputs": [
    {
     "data": {
      "text/plain": [
       "25"
      ]
     },
     "execution_count": 34,
     "metadata": {},
     "output_type": "execute_result"
    }
   ],
   "source": [
    "def make_incrementor(n):\n",
    "    return lambda x: x + n\n",
    "make_incrementor(15)(10)"
   ]
  },
  {
   "cell_type": "code",
   "execution_count": 3,
   "id": "841b9447",
   "metadata": {},
   "outputs": [
    {
     "data": {
      "text/plain": [
       "[[1, 5, 9], [2, 6, 10], [3, 7, 11], [4, 8, 12]]"
      ]
     },
     "execution_count": 3,
     "metadata": {},
     "output_type": "execute_result"
    }
   ],
   "source": [
    "matrix = [\n",
    "    [1, 2, 3, 4],     # 1. satır\n",
    "    [5, 6, 7, 8],     # 2. satır\n",
    "    [9, 10, 11, 12]   # 3. satır\n",
    "]\n",
    "[[row[i] for row in matrix] for i in range(4)]\n"
   ]
  },
  {
   "cell_type": "code",
   "execution_count": 5,
   "id": "62403de4",
   "metadata": {},
   "outputs": [
    {
     "data": {
      "text/plain": [
       "[(1, 5, 9), (2, 6, 10), (3, 7, 11), (4, 8, 12)]"
      ]
     },
     "execution_count": 5,
     "metadata": {},
     "output_type": "execute_result"
    }
   ],
   "source": [
    "list(zip(*matrix))\n"
   ]
  },
  {
   "cell_type": "code",
   "execution_count": 6,
   "id": "49c68c76",
   "metadata": {},
   "outputs": [
    {
     "name": "stdout",
     "output_type": "stream",
     "text": [
      "What is your name?  It is lancelot.\n",
      "What is your quest?  It is the holy grail.\n",
      "What is your favorite color?  It is blue.\n"
     ]
    }
   ],
   "source": [
    "questions = ['name', 'quest', 'favorite color']\n",
    "answers = ['lancelot', 'the holy grail', 'blue']\n",
    "\n",
    "for q, a in zip(questions, answers):\n",
    "    print(f'What is your {q}?  It is {a}.')\n"
   ]
  },
  {
   "cell_type": "markdown",
   "id": "b9b1b215",
   "metadata": {},
   "source": [
    "🎯 Özet\n",
    ".py uzantılı dosyalar modül olarak kullanılabilir.\n",
    "\n",
    "import modül komutuyla içe aktarılır.\n",
    "\n",
    "Fonksiyonlara modül_adı.fonksiyon_adı() şeklinde erişilir.\n",
    "\n",
    "__name__ ile modülün adı alınabilir.\n",
    "\n",
    "fib = fibo.fib gibi kısa adlar tanımlanarak kullanım kolaylaştırılır."
   ]
  },
  {
   "cell_type": "markdown",
   "id": "763f2e80",
   "metadata": {},
   "source": []
  }
 ],
 "metadata": {
  "kernelspec": {
   "display_name": "Python 3",
   "language": "python",
   "name": "python3"
  },
  "language_info": {
   "codemirror_mode": {
    "name": "ipython",
    "version": 3
   },
   "file_extension": ".py",
   "mimetype": "text/x-python",
   "name": "python",
   "nbconvert_exporter": "python",
   "pygments_lexer": "ipython3",
   "version": "3.10.7"
  }
 },
 "nbformat": 4,
 "nbformat_minor": 5
}
